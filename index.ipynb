{
 "cells": [
  {
   "cell_type": "markdown",
   "metadata": {},
   "source": [
    "#### Import Python packages "
   ]
  },
  {
   "cell_type": "code",
   "execution_count": 150,
   "metadata": {},
   "outputs": [],
   "source": [
    "import cassandra"
   ]
  },
  {
   "cell_type": "markdown",
   "metadata": {},
   "source": [
    "##  STAR SCHEMA FOR HEALTH CENTER"
   ]
  },
  {
   "cell_type": "markdown",
   "metadata": {},
   "source": [
    "<img src=\"health_centres_data_mart_model.png\">"
   ]
  },
  {
   "cell_type": "markdown",
   "metadata": {},
   "source": [
    "#### Creating a Cluster"
   ]
  },
  {
   "cell_type": "code",
   "execution_count": 151,
   "metadata": {},
   "outputs": [
    {
     "name": "stderr",
     "output_type": "stream",
     "text": [
      "WARNING:cassandra.cluster:Cluster.__init__ called with contact_points specified, but no load_balancing_policy. In the next major version, this will raise an error; please specify a load-balancing policy. (contact_points = ['127.0.0.1'], lbp = None)\n"
     ]
    }
   ],
   "source": [
    "from cassandra.cluster import Cluster\n",
    "try:\n",
    "    cluster=Cluster(['127.0.0.1'])\n",
    "    # To establish connection and begin executing queries, need a session\n",
    "    session=cluster.connect()\n",
    "except Exception as e:\n",
    "    print(e)"
   ]
  },
  {
   "cell_type": "markdown",
   "metadata": {},
   "source": [
    "#### Create Keyspace"
   ]
  },
  {
   "cell_type": "code",
   "execution_count": 152,
   "metadata": {},
   "outputs": [
    {
     "data": {
      "text/plain": [
       "<cassandra.cluster.ResultSet at 0xed38560908>"
      ]
     },
     "execution_count": 152,
     "metadata": {},
     "output_type": "execute_result"
    }
   ],
   "source": [
    "session.execute(\"\"\"\n",
    "        CREATE KEYSPACE IF NOT EXISTS health_center\n",
    "        WITH REPLICATION = { 'class' : 'SimpleStrategy', 'replication_factor' : 1 }\n",
    "\"\"\")"
   ]
  },
  {
   "cell_type": "markdown",
   "metadata": {},
   "source": [
    "#### Set Keyspace"
   ]
  },
  {
   "cell_type": "code",
   "execution_count": 153,
   "metadata": {},
   "outputs": [],
   "source": [
    "session.set_keyspace(\"health_center\")"
   ]
  },
  {
   "cell_type": "markdown",
   "metadata": {},
   "source": [
    "## Create Table Satment "
   ]
  },
  {
   "cell_type": "markdown",
   "metadata": {},
   "source": [
    "## Create Patient Table Query"
   ]
  },
  {
   "cell_type": "code",
   "execution_count": 154,
   "metadata": {},
   "outputs": [],
   "source": [
    "patient_table_query = (\"\"\"\n",
    "    CREATE TABLE IF NOT EXISTS patients(\n",
    "        patient_id      INT,\n",
    "        first_name      text,\n",
    "        middle_name     text,\n",
    "        last_name       text,\n",
    "        date_of_birth   text ,\n",
    "        gender_mfu      text,\n",
    "        address         TEXT,\n",
    "        other_details   TEXT,PRIMARY KEY(patient_id)\n",
    "    )\n",
    "                       \"\"\")"
   ]
  },
  {
   "cell_type": "markdown",
   "metadata": {},
   "source": [
    "## Create Staff Table Query"
   ]
  },
  {
   "cell_type": "code",
   "execution_count": 155,
   "metadata": {},
   "outputs": [],
   "source": [
    "staff_table_query = (\"\"\"\n",
    "            CREATE TABLE IF NOT EXISTS staff(\n",
    "                staff_id        INT ,\n",
    "                first_name      text,\n",
    "                middle_name     text,\n",
    "                last_name       text,\n",
    "                date_of_birth   text,\n",
    "                gender_mfu      text,\n",
    "                qualifications  TEXT,\n",
    "                other_details   TEXT,PRIMARY KEY(staff_id) \n",
    "            )\n",
    "                     \"\"\")"
   ]
  },
  {
   "cell_type": "markdown",
   "metadata": {},
   "source": [
    "## create ref_calender table query"
   ]
  },
  {
   "cell_type": "code",
   "execution_count": 156,
   "metadata": {},
   "outputs": [],
   "source": [
    "ref_calender_table_query = (\"\"\"\n",
    "    CREATE TABLE IF NOT EXISTS ref_calender(\n",
    "        calender_id   INT,\n",
    "        day_number    INT,\n",
    "        day_date      text,\n",
    "        week_number   INT,\n",
    "        year_number   INT,\n",
    "        time_hrs      INT,PRIMARY KEY(calender_id)\n",
    "    )\n",
    "                            \"\"\")"
   ]
  },
  {
   "cell_type": "markdown",
   "metadata": {},
   "source": [
    "## Create Medication Table Query"
   ]
  },
  {
   "cell_type": "code",
   "execution_count": 157,
   "metadata": {},
   "outputs": [],
   "source": [
    "medication_table_query = (\"\"\"\n",
    "        CREATE TABLE medication(\n",
    "            medication_id          INT,\n",
    "            medication_type_code   INT,\n",
    "            medication_unit_cost   TEXT,\n",
    "            medication_name        TEXT,\n",
    "            medication_description TEXT,\n",
    "            other_details          TEXT,PRIMARY KEY(medication_id)\n",
    "        )\n",
    "                          \"\"\")"
   ]
  },
  {
   "cell_type": "markdown",
   "metadata": {},
   "source": [
    "## Create Ref_Medication Table Sql Query"
   ]
  },
  {
   "cell_type": "code",
   "execution_count": 158,
   "metadata": {},
   "outputs": [],
   "source": [
    "ref_medication_types_table_query = (\"\"\"\n",
    "        CREATE TABLE IF NOT EXISTS ref_medication_types(\n",
    "            medication_type_code         INT,\n",
    "            medication_type_description  TEXT,PRIMARY KEY(medication_type_code) \n",
    "                                            )\n",
    "                              \"\"\")"
   ]
  },
  {
   "cell_type": "markdown",
   "metadata": {},
   "source": [
    "## Create Appointments Table Query"
   ]
  },
  {
   "cell_type": "code",
   "execution_count": 159,
   "metadata": {},
   "outputs": [],
   "source": [
    "appointments_table_query = (\"\"\"\n",
    "        CREATE TABLE IF NOT EXISTS appointments(\n",
    "            appointment_id         INT,\n",
    "            patient_id             INT,\n",
    "            staff_id               INT,\n",
    "            appointment_details    TEXT,PRIMARY KEY(appointment_id) \n",
    "        )\n",
    "                      \"\"\")"
   ]
  },
  {
   "cell_type": "markdown",
   "metadata": {},
   "source": [
    "## Create Patients_Medication Table Sql Query"
   ]
  },
  {
   "cell_type": "code",
   "execution_count": 160,
   "metadata": {},
   "outputs": [],
   "source": [
    "patients_medication_table_query = (\"\"\"\n",
    "        CREATE TABLE IF NOT EXISTS patients_medication(\n",
    "            patients_medication_id    INT,\n",
    "            patient_id                INT,\n",
    "            medication_id             INT,\n",
    "            date_time_administered    TEXT,\n",
    "            dosage                    TEXT,\n",
    "            commentss                 TEXT,PRIMARY KEY(patients_medication_id)\n",
    "        )\n",
    "                             \"\"\")"
   ]
  },
  {
   "cell_type": "markdown",
   "metadata": {},
   "source": [
    "## Create Facts Table Sql Query"
   ]
  },
  {
   "cell_type": "code",
   "execution_count": 161,
   "metadata": {},
   "outputs": [],
   "source": [
    "facts_table_query = (\"\"\"\n",
    "        CREATE TABLE IF NOT EXISTS facts(\n",
    "            fact_id                INT,\n",
    "            appointment_id         INT,\n",
    "            calender_id            INT,\n",
    "            medication_id          INT,\n",
    "            medication_type_code   INT,\n",
    "            patient_id             INT,\n",
    "            patients_medication    INT,\n",
    "            staff_id               INT,\n",
    "            other_details          TEXT,PRIMARY KEY(fact_id)\n",
    "                                          )\n",
    "              \"\"\")\n"
   ]
  },
  {
   "cell_type": "markdown",
   "metadata": {},
   "source": [
    "## Create Table Queries Lis"
   ]
  },
  {
   "cell_type": "code",
   "execution_count": 162,
   "metadata": {},
   "outputs": [],
   "source": [
    "create_table_queries = [patient_table_query, staff_table_query, ref_calender_table_query,medication_table_query, \n",
    "                         ref_medication_types_table_query,appointments_table_query, \n",
    "                        patients_medication_table_query,facts_table_query]"
   ]
  },
  {
   "cell_type": "code",
   "execution_count": 163,
   "metadata": {},
   "outputs": [],
   "source": [
    "try:\n",
    "    for query in create_table_queries:\n",
    "        session.execute(query)\n",
    "except Exception as e:\n",
    "    print(e)"
   ]
  },
  {
   "cell_type": "markdown",
   "metadata": {},
   "source": [
    "## TEST"
   ]
  },
  {
   "cell_type": "code",
   "execution_count": 164,
   "metadata": {},
   "outputs": [],
   "source": [
    "## insert patients  \n",
    "insert_patients = (\"\"\"\n",
    "   INSERT INTO patients (patient_id,first_name,middle_name,last_name,date_of_birth\n",
    "       ,gender_mfu,address,other_details)\n",
    "    VALUES (1,'AHMED','ADEL','HAASSAN','1996-07-04','m','other_details','other_details')\n",
    "\"\"\")\n",
    "\n",
    "\n",
    "## insert staff  \n",
    "insert_staff = (\"\"\"\n",
    "    INSERT INTO staff (staff_id,first_name,middle_name,last_name,date_of_birth\n",
    "         ,gender_mfu,qualifications,other_details)\n",
    "  VALUES  (1,'AHMED','ADEL','HAASSAS','1996-07-04','m','qualifications','other_details')\n",
    "                                   \"\"\")\n",
    "## insert into ref_calender sql query\n",
    "insert_ref_calender = (\"\"\"\n",
    "    INSERT INTO ref_calender (calender_id,day_number,day_date,week_number,year_number ,time_hrs)\n",
    "    VALUES  (1,4,'1996-07-04',5,5,5)\n",
    "                  \"\"\")\n",
    "insert_ref_calender = (\"\"\"\n",
    "    INSERT INTO ref_calender (calender_id,day_number,day_date,week_number,year_number ,time_hrs)\n",
    "    VALUES  (1,4,'1996-07-04',5,5,5)\n",
    "                  \"\"\")\n",
    " ## insert into ref_medication_types sql query\n",
    "insert_ref_medication_types = (\"\"\"\n",
    "    INSERT INTO ref_medication_types (medication_type_code,medication_type_description)\n",
    "    VALUES  (1,'medication_type_description')\n",
    "                  \"\"\")\n",
    "\n",
    "## insert into medication sql query\n",
    "insert_medication = (\"\"\"\n",
    "    INSERT INTO medication (medication_id,medication_type_code,medication_unit_cost\n",
    "                            ,medication_name,medication_description ,other_details)\n",
    "    VALUES  (1,1,'medication_unit_cost',\n",
    "                 'medication_name','medication_description','other_details')\n",
    "                  \"\"\")\n",
    "## insert into appointments sql query\n",
    "insert_ref_appointments = (\"\"\"\n",
    "    INSERT INTO appointments (appointment_id,patient_id,staff_id,appointment_details)\n",
    "    VALUES  (1,1,1,'appointment_details')\n",
    "                 \"\"\")\n",
    "## insert into patients_medication sql query\n",
    "insert_patients_medication = (\"\"\"\n",
    "    INSERT INTO patients_medication (patients_medication_id,patient_id,medication_id,\n",
    "                                     date_time_administered,dosage,commentss)\n",
    " VALUES  (1,1,1,'1996-07-04','dosage','commentss')\n",
    "                  \"\"\")\n",
    "## insert into facts sql query\n",
    "insert_patients_medication = (\"\"\"\n",
    "    INSERT INTO facts (fact_id,appointment_id,calender_id,medication_id,medication_type_code,\n",
    "                                     patient_id,patients_medication,staff_id,other_details)\n",
    " VALUES  (1,1,1,1,1,1,1,1,'other_details')\n",
    "                  \"\"\")\n",
    "insert_queries = [insert_patients, insert_staff, insert_ref_calender, insert_medication,\n",
    "                  insert_ref_medication_types, insert_ref_appointments,\n",
    "                  insert_patients_medication, insert_patients_medication]\n",
    "\n",
    "\n",
    "try:\n",
    "    for query in insert_queries:\n",
    "        session.execute(query)\n",
    "except Exception as e:\n",
    "    print(e)"
   ]
  },
  {
   "cell_type": "code",
   "execution_count": 165,
   "metadata": {},
   "outputs": [
    {
     "name": "stdout",
     "output_type": "stream",
     "text": [
      "Select patients\n",
      "1 AHMED ADEL HAASSAN 1996-07-04 m other_details other_details\n",
      "================================================================================================================\n",
      "Select staff\n",
      "1 AHMED ADEL HAASSAS 1996-07-04 m qualifications other_details\n",
      "================================================================================================================\n",
      "select ref_calender\n",
      "1 4 1996-07-04 5 5 5\n",
      "================================================================================================================\n",
      "select medication\n",
      "1 1 medication_unit_cost medication_name medication_description other_details\n",
      "================================================================================================================\n",
      "select ref_medication_types\n",
      "1 medication_type_description\n",
      "================================================================================================================\n",
      "select appointments\n",
      "1 1 1 appointment_details\n",
      "================================================================================================================\n",
      "patients_medication\n",
      "1 1 1 1996-07-04 dosage commentss\n",
      "================================================================================================================\n",
      "select facts\n",
      "1 1 1 1 1 1 1 1 other_details\n"
     ]
    }
   ],
   "source": [
    "print(\"Select patients\")\n",
    "query=\"SELECT * FROM patients \"\n",
    "try:\n",
    "    rows=session.execute(query)\n",
    "except Exception as e:\n",
    "    print(e)\n",
    "for row in rows:\n",
    "    print(row.patient_id,row.first_name,row.middle_name,row.last_name,row.date_of_birth,row.gender_mfu,row.address\n",
    "         ,row.other_details)\n",
    "print(\"================================================================================================================\")    \n",
    "print(\"Select staff\")\n",
    "query=\"SELECT * FROM staff \"\n",
    "try:\n",
    "    rows=session.execute(query)\n",
    "except Exception as e:\n",
    "    print(e)\n",
    "for row in rows:\n",
    "    print(row.staff_id,row.first_name,row.middle_name,row.last_name,row.date_of_birth,row.gender_mfu,row.qualifications\n",
    "         ,row.other_details)  \n",
    "print(\"================================================================================================================\")    \n",
    "   \n",
    "print(\"select ref_calender\")\n",
    "query=\"SELECT * FROM ref_calender \"\n",
    "try:\n",
    "    rows=session.execute(query)\n",
    "except Exception as e:\n",
    "    print(e)\n",
    "for row in rows:\n",
    "    print(row.calender_id,row.day_number,row.day_date,row.week_number,row.year_number,row.time_hrs)  \n",
    "print(\"================================================================================================================\")    \n",
    "    \n",
    "print(\"select medication\")\n",
    "query=\"SELECT * FROM medication \"\n",
    "try:\n",
    "    rows=session.execute(query)\n",
    "except Exception as e:\n",
    "    print(e)\n",
    "for row in rows:\n",
    "    print(row.medication_id,row.medication_type_code,row.medication_unit_cost,row.medication_name\n",
    "          ,row.medication_description\n",
    "          ,row.other_details)\n",
    "print(\"================================================================================================================\")    \n",
    "   \n",
    "print(\"select ref_medication_types\")\n",
    "query=\"SELECT * FROM ref_medication_types \"\n",
    "try:\n",
    "    rows=session.execute(query)\n",
    "except Exception as e:\n",
    "    print(e)\n",
    "for row in rows:\n",
    "    print(row.medication_type_code,row.medication_type_description)\n",
    "print(\"================================================================================================================\")    \n",
    "    \n",
    "print(\"select appointments\")\n",
    "query=\"SELECT * FROM appointments \"\n",
    "try:\n",
    "    rows=session.execute(query)\n",
    "except Exception as e:\n",
    "    print(e)\n",
    "for row in rows:\n",
    "    print(row.appointment_id,row.patient_id,row.staff_id,row.appointment_details) \n",
    "print(\"================================================================================================================\")    \n",
    "    \n",
    "print(\"patients_medication\")\n",
    "query=\"SELECT * FROM patients_medication \"\n",
    "try:\n",
    "    rows=session.execute(query)\n",
    "except Exception as e:\n",
    "    print(e)\n",
    "for row in rows:\n",
    "    print(row.patients_medication_id,row.patient_id,row.medication_id,row.date_time_administered,row.dosage,row.commentss)\n",
    "print(\"================================================================================================================\")    \n",
    "\n",
    "print(\"select facts\")\n",
    "query=\"SELECT * FROM facts \"\n",
    "try:\n",
    "    rows=session.execute(query)\n",
    "except Exception as e:\n",
    "    print(e)\n",
    "for row in rows:\n",
    "    print(row.fact_id,row.appointment_id,row.calender_id,row.medication_id,row.medication_type_code,row.patient_id\n",
    "         ,row.patients_medication\n",
    "         ,row.staff_id,row.other_details)"
   ]
  },
  {
   "cell_type": "markdown",
   "metadata": {},
   "source": [
    "## We will drop the tables before closing out the sessions"
   ]
  },
  {
   "cell_type": "markdown",
   "metadata": {},
   "source": [
    "## Drop Table Query"
   ]
  },
  {
   "cell_type": "code",
   "execution_count": 166,
   "metadata": {},
   "outputs": [],
   "source": [
    "drop_appointments_table = \"DROP TABLE IF EXISTS appointments \"\n",
    "drop_ref_calender_table = \"DROP TABLE IF EXISTS ref_calender\"\n",
    "drop_patients_table = \"DROP TABLE IF EXISTS patients\"\n",
    "drop_medication_table = \"DROP TABLE IF EXISTS medication\"\n",
    "drop_ref_medication_types_table = \"DROP TABLE IF EXISTS ref_medication_types\"\n",
    "drop_facts_table = \"DROP TABLE IF EXISTS facts\"\n",
    "drop_patients_medications_table = \"DROP TABLE IF EXISTS patients_medications\"\n",
    "drop_staff_table = \"DROP TABLE IF EXISTS patients_medications\""
   ]
  },
  {
   "cell_type": "markdown",
   "metadata": {},
   "source": [
    "## Drop Table Queries Lis"
   ]
  },
  {
   "cell_type": "code",
   "execution_count": 167,
   "metadata": {},
   "outputs": [],
   "source": [
    "drop_table_queries = [drop_appointments_table, drop_ref_calender_table, drop_patients_table, drop_medication_table,\n",
    "                      drop_ref_medication_types_table, drop_facts_table, drop_patients_medications_table, drop_staff_table]\n",
    "try:\n",
    "    for query in drop_table_queries:\n",
    "        session.execute(query)\n",
    "except Exception as e:\n",
    "    print(e)"
   ]
  },
  {
   "cell_type": "markdown",
   "metadata": {},
   "source": [
    "### Close the session and cluster connection¶"
   ]
  },
  {
   "cell_type": "code",
   "execution_count": 168,
   "metadata": {},
   "outputs": [],
   "source": [
    "session.shutdown()\n",
    "cluster.shutdown()"
   ]
  }
 ],
 "metadata": {
  "kernelspec": {
   "display_name": "Python 3",
   "language": "python",
   "name": "python3"
  },
  "language_info": {
   "codemirror_mode": {
    "name": "ipython",
    "version": 3
   },
   "file_extension": ".py",
   "mimetype": "text/x-python",
   "name": "python",
   "nbconvert_exporter": "python",
   "pygments_lexer": "ipython3",
   "version": "3.7.4"
  }
 },
 "nbformat": 4,
 "nbformat_minor": 2
}
